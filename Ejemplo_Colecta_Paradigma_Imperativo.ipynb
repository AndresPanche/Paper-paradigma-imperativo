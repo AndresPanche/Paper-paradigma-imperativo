{
  "nbformat": 4,
  "nbformat_minor": 0,
  "metadata": {
    "colab": {
      "provenance": []
    },
    "kernelspec": {
      "name": "python3",
      "display_name": "Python 3"
    },
    "language_info": {
      "name": "python"
    }
  },
  "cells": [
    {
      "cell_type": "code",
      "execution_count": null,
      "metadata": {
        "colab": {
          "base_uri": "https://localhost:8080/"
        },
        "id": "Me9LRBppaCZQ",
        "outputId": "894a4481-0a48-4b31-9f62-e3a038ee9f41"
      },
      "outputs": [
        {
          "output_type": "stream",
          "name": "stdout",
          "text": [
            "Ingrese el numero de estudiantes: 35\n",
            "Ingrese la cantidad más pequeña de dinero que haya traído un estudiante: 1500\n",
            "Comeremos pollo frito\n"
          ]
        }
      ],
      "source": [
        "numero_estudiantes = int(input(\"Ingrese el numero de estudiantes: \"))\n",
        "menor_cantidad = int(input(\"Ingrese la cantidad más pequeña de dinero que haya traído un estudiante: \"))\n",
        "\n",
        "total_recaudo = numero_estudiantes * menor_cantidad\n",
        "\n",
        "if total_recaudo <= 40000:\n",
        "  print(\"Comeremos salchipapas\")\n",
        "elif total_recaudo > 40000 and total_recaudo <= 50000:\n",
        "  print(\"Comeremos pizza\")\n",
        "elif total_recaudo > 50000 and total_recaudo <= 60000:\n",
        "  print(\"Comeremos pollo frito\")\n",
        "elif total_recaudo > 60000:\n",
        "  print(\"Comeremos hamburguesas\")\n",
        "else:\n",
        "  print(\"Hoy no comemos\")"
      ]
    }
  ]
}